{
 "cells": [
  {
   "cell_type": "code",
   "execution_count": 3,
   "id": "59ef903c-3f89-4858-95cf-ef6357f5f33a",
   "metadata": {},
   "outputs": [
    {
     "name": "stdout",
     "output_type": "stream",
     "text": [
      "/home/jovyan/.cache/matplotlib\n"
     ]
    },
    {
     "data": {
      "text/plain": [
       "'/opt/conda/lib/python3.11/site-packages/matplotlib/mpl-data/fonts/ttf/DejaVuSans.ttf'"
      ]
     },
     "execution_count": 3,
     "metadata": {},
     "output_type": "execute_result"
    }
   ],
   "source": [
    "import os\n",
    "import numpy as np\n",
    "import pandas as pd\n",
    "import geopandas as gpd\n",
    "import matplotlib.cm as cm\n",
    "import matplotlib.pyplot as plt\n",
    "\n",
    "import matplotlib\n",
    "import matplotlib.font_manager\n",
    "\n",
    "import os\n",
    "from requests import get\n",
    "from urllib.parse import urlparse\n",
    "\n",
    "# For debugging purposes (fonts can be hard)\n",
    "print(matplotlib.get_cachedir())\n",
    "\n",
    "# We change fonts the hard way in this notebook...\n",
    "# but you can also do this to change the default \n",
    "# font everywhere in one go:\n",
    "# matplotlib.rcParams['font.family'] = \"Liberation Sans Narrow\"\n",
    "fontname = \"DejaVu Sans\"\n",
    "\n",
    "matplotlib.font_manager.FontManager().findfont(fontname, fontext='ttf', rebuild_if_missing=True)"
   ]
  },
  {
   "cell_type": "code",
   "execution_count": 4,
   "id": "1ce14612-c6f3-4eae-ab65-ee877d2e11af",
   "metadata": {},
   "outputs": [
    {
     "name": "stdout",
     "output_type": "stream",
     "text": [
      "Help on function cache_data in module __main__:\n",
      "\n",
      "cache_data(src: str, dest: str) -> str\n",
      "    Downloads a file from a given URL and caches it locally.\n",
      "    \n",
      "    Parameters:\n",
      "    src (str): The source URL of the file to download.\n",
      "    dest (str): The destination directory where the file will be saved.\n",
      "    \n",
      "    Returns:\n",
      "    str: The path to the cached file.\n",
      "\n"
     ]
    }
   ],
   "source": [
    "\n",
    "\n",
    "def cache_data(src:str, dest:str) -> str:\n",
    "    \"\"\"\n",
    "    Downloads a file from a given URL and caches it locally.\n",
    "\n",
    "    Parameters:\n",
    "    src (str): The source URL of the file to download.\n",
    "    dest (str): The destination directory where the file will be saved.\n",
    "\n",
    "    Returns:\n",
    "    str: The path to the cached file.\n",
    "    \"\"\"    \n",
    "    url = urlparse(src) # We assume that this is some kind of valid URL \n",
    "    fn  = os.path.split(url.path)[1] # Extract the filename\n",
    "    dfn = os.path.join(dest,fn) # Destination filename\n",
    "    \n",
    "    if not os.path.isfile(dfn) or os.path.getsize(dfn) < 250:\n",
    "        \n",
    "        print(f\"{dfn} not found, downloading!\")\n",
    "\n",
    "        path = os.path.split(dest)\n",
    "        \n",
    "        if len(path) >= 1 and path[0] != '':\n",
    "            os.makedirs(os.path.join(*path), exist_ok=True)\n",
    "            \n",
    "        with open(dfn, \"wb\") as file:\n",
    "            response = get(src)\n",
    "            file.write(response.content)\n",
    "            \n",
    "        print(\"\\tDone downloading...\")\n",
    "\n",
    "    else:\n",
    "        print(f\"Found {dfn} locally!\")\n",
    "\n",
    "    return dfn\n",
    "\n",
    "help(cache_data) # <- This should show the docstring you've written"
   ]
  },
  {
   "cell_type": "code",
   "execution_count": 5,
   "id": "8cdcaa86-7c70-496e-8ca4-0ef057ad20c1",
   "metadata": {},
   "outputs": [],
   "source": [
    "# Set download URL\n",
    "ymd  = '20240614'\n",
    "city = 'London'\n",
    "host = 'https://orca.casa.ucl.ac.uk'\n",
    "url  = f'{host}/~jreades/data/{ymd}-{city}-listings.csv.gz'\n"
   ]
  },
  {
   "cell_type": "code",
   "execution_count": 6,
   "id": "1accb433-6fe5-474d-8672-784e55c75c58",
   "metadata": {},
   "outputs": [
    {
     "name": "stdout",
     "output_type": "stream",
     "text": [
      "Writing to: 20240614-London-listings.csv.gz\n",
      "Found data/raw/20240614-London-listings.csv.gz locally!\n",
      "Data frame is 93,481 x 75\n"
     ]
    }
   ],
   "source": [
    "path = os.path.join('data','raw') # A default location to save raw data\n",
    "fn   = url.split('/')[-1]         # What does this do?\n",
    "print(f\"Writing to: {fn}\")\n",
    "\n",
    "df = pd.read_csv(cache_data(url, os.path.join('data','raw')))\n",
    "print(f\"Data frame is {df.shape[0]:,} x {df.shape[1]}\")"
   ]
  },
  {
   "cell_type": "code",
   "execution_count": 7,
   "id": "8ee106d6-4ad7-4f2c-bbdb-ccef210b9284",
   "metadata": {},
   "outputs": [
    {
     "name": "stdout",
     "output_type": "stream",
     "text": [
      "Found data/geo/Boroughs.gpkg locally!\n",
      "Found data/geo/Water.gpkg locally!\n",
      "Found data/geo/Greenspace.gpkg locally!\n",
      "Found data/geo/Roads.gpkg locally!\n",
      "Done.\n"
     ]
    }
   ],
   "source": [
    "ddir  = os.path.join('data','geo') # destination directory\n",
    "spath = 'https://github.com/jreades/i2p/blob/master/data/src/' # source path\n",
    "\n",
    "boros = gpd.read_file( cache_data(spath+'Boroughs.gpkg?raw=true', ddir) )\n",
    "water = gpd.read_file( cache_data(spath+'Water.gpkg?raw=true', ddir) )\n",
    "green = gpd.read_file( cache_data(spath+'Greenspace.gpkg?raw=true', ddir) )\n",
    "road =  gpd.read_file( cache_data(spath+'Roads.gpkg?raw=true', ddir) )\n",
    "print('Done.')"
   ]
  },
  {
   "cell_type": "code",
   "execution_count": 8,
   "id": "195dfe12-70c1-4447-89ef-193a8fb91317",
   "metadata": {},
   "outputs": [
    {
     "name": "stdout",
     "output_type": "stream",
     "text": [
      "Data frame is 93,481 x 75\n"
     ]
    }
   ],
   "source": [
    "testing = False\n",
    "\n",
    "if testing:\n",
    "    df = pd.read_csv(os.path.join(path,fn), \n",
    "                low_memory=True, nrows = 10000)\n",
    "else:\n",
    "    df = pd.read_csv(os.path.join(path,fn), \n",
    "                low_memory=False)\n",
    "\n",
    "print(f\"Data frame is {df.shape[0]:,} x {df.shape[1]}\")"
   ]
  },
  {
   "cell_type": "code",
   "execution_count": 9,
   "id": "39551b59-7db2-4b3e-af09-1666d8ce9edc",
   "metadata": {},
   "outputs": [
    {
     "data": {
      "text/plain": [
       "['id',\n",
       " 'listing_url',\n",
       " 'scrape_id',\n",
       " 'last_scraped',\n",
       " 'source',\n",
       " 'name',\n",
       " 'description',\n",
       " 'neighborhood_overview',\n",
       " 'picture_url',\n",
       " 'host_id',\n",
       " 'host_url',\n",
       " 'host_name',\n",
       " 'host_since',\n",
       " 'host_location',\n",
       " 'host_about',\n",
       " 'host_response_time',\n",
       " 'host_response_rate',\n",
       " 'host_acceptance_rate',\n",
       " 'host_is_superhost',\n",
       " 'host_thumbnail_url',\n",
       " 'host_picture_url',\n",
       " 'host_neighbourhood',\n",
       " 'host_listings_count',\n",
       " 'host_total_listings_count',\n",
       " 'host_verifications',\n",
       " 'host_has_profile_pic',\n",
       " 'host_identity_verified',\n",
       " 'neighbourhood',\n",
       " 'neighbourhood_cleansed',\n",
       " 'neighbourhood_group_cleansed',\n",
       " 'latitude',\n",
       " 'longitude',\n",
       " 'property_type',\n",
       " 'room_type',\n",
       " 'accommodates',\n",
       " 'bathrooms',\n",
       " 'bathrooms_text',\n",
       " 'bedrooms',\n",
       " 'beds',\n",
       " 'amenities',\n",
       " 'price',\n",
       " 'minimum_nights',\n",
       " 'maximum_nights',\n",
       " 'minimum_minimum_nights',\n",
       " 'maximum_minimum_nights',\n",
       " 'minimum_maximum_nights',\n",
       " 'maximum_maximum_nights',\n",
       " 'minimum_nights_avg_ntm',\n",
       " 'maximum_nights_avg_ntm',\n",
       " 'calendar_updated',\n",
       " 'has_availability',\n",
       " 'availability_30',\n",
       " 'availability_60',\n",
       " 'availability_90',\n",
       " 'availability_365',\n",
       " 'calendar_last_scraped',\n",
       " 'number_of_reviews',\n",
       " 'number_of_reviews_ltm',\n",
       " 'number_of_reviews_l30d',\n",
       " 'first_review',\n",
       " 'last_review',\n",
       " 'review_scores_rating',\n",
       " 'review_scores_accuracy',\n",
       " 'review_scores_cleanliness',\n",
       " 'review_scores_checkin',\n",
       " 'review_scores_communication',\n",
       " 'review_scores_location',\n",
       " 'review_scores_value',\n",
       " 'license',\n",
       " 'instant_bookable',\n",
       " 'calculated_host_listings_count',\n",
       " 'calculated_host_listings_count_entire_homes',\n",
       " 'calculated_host_listings_count_private_rooms',\n",
       " 'calculated_host_listings_count_shared_rooms',\n",
       " 'reviews_per_month']"
      ]
     },
     "execution_count": 9,
     "metadata": {},
     "output_type": "execute_result"
    }
   ],
   "source": [
    "header = list(df)\n",
    "header"
   ]
  },
  {
   "cell_type": "code",
   "execution_count": 10,
   "id": "9109f740-fdf6-403a-bddd-8db7a3f76ae9",
   "metadata": {},
   "outputs": [],
   "source": [
    "cols = ['id', 'listing_url', 'last_scraped', 'name', 'description',\n",
    "        'host_id', 'host_name', 'host_since', 'host_location', 'host_about', 'host_acceptance_rate', 'host_is_superhost', 'host_neighbourhood', 'host_listings_count', 'host_total_listings_count','host_verifications',\n",
    " 'latitude','longitude',\n",
    " 'property_type', 'room_type', 'accommodates', 'bathrooms', 'bathrooms_text', 'bedrooms', 'beds', 'amenities', 'price',\n",
    " 'minimum_nights', 'maximum_nights', 'availability_365', 'number_of_reviews','first_review', 'last_review', 'review_scores_rating', 'reviews_per_month']"
   ]
  },
  {
   "cell_type": "code",
   "execution_count": 11,
   "id": "153f7654-4c43-4e43-be24-c1a3e4427a79",
   "metadata": {},
   "outputs": [],
   "source": [
    "df = pd.read_csv(os.path.join(path,fn), \n",
    "                low_memory=False, usecols = cols)"
   ]
  },
  {
   "cell_type": "code",
   "execution_count": 12,
   "id": "fea1bb56-91bd-41cf-b8e1-4d50f031cc52",
   "metadata": {},
   "outputs": [
    {
     "data": {
      "text/plain": [
       "['id',\n",
       " 'listing_url',\n",
       " 'last_scraped',\n",
       " 'name',\n",
       " 'description',\n",
       " 'host_id',\n",
       " 'host_name',\n",
       " 'host_since',\n",
       " 'host_location',\n",
       " 'host_about',\n",
       " 'host_acceptance_rate',\n",
       " 'host_is_superhost',\n",
       " 'host_neighbourhood',\n",
       " 'host_listings_count',\n",
       " 'host_total_listings_count',\n",
       " 'host_verifications',\n",
       " 'latitude',\n",
       " 'longitude',\n",
       " 'property_type',\n",
       " 'room_type',\n",
       " 'accommodates',\n",
       " 'bathrooms',\n",
       " 'bathrooms_text',\n",
       " 'bedrooms',\n",
       " 'beds',\n",
       " 'amenities',\n",
       " 'price',\n",
       " 'minimum_nights',\n",
       " 'maximum_nights',\n",
       " 'availability_365',\n",
       " 'number_of_reviews',\n",
       " 'first_review',\n",
       " 'last_review',\n",
       " 'review_scores_rating',\n",
       " 'reviews_per_month']"
      ]
     },
     "execution_count": 12,
     "metadata": {},
     "output_type": "execute_result"
    }
   ],
   "source": [
    "list(df)"
   ]
  },
  {
   "cell_type": "code",
   "execution_count": null,
   "id": "e7c41059-a070-446e-9896-a6a96ec57703",
   "metadata": {},
   "outputs": [],
   "source": []
  }
 ],
 "metadata": {
  "kernelspec": {
   "display_name": "Python (base)",
   "language": "python",
   "name": "base"
  },
  "language_info": {
   "codemirror_mode": {
    "name": "ipython",
    "version": 3
   },
   "file_extension": ".py",
   "mimetype": "text/x-python",
   "name": "python",
   "nbconvert_exporter": "python",
   "pygments_lexer": "ipython3",
   "version": "3.11.9"
  }
 },
 "nbformat": 4,
 "nbformat_minor": 5
}
