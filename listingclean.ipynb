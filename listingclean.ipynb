{
 "cells": [
  {
   "cell_type": "code",
   "execution_count": 1,
   "id": "ded17eba-2f55-40f6-9a6a-3058c2511f34",
   "metadata": {},
   "outputs": [
    {
     "name": "stdout",
     "output_type": "stream",
     "text": [
      "/home/jovyan/.cache/matplotlib\n"
     ]
    },
    {
     "data": {
      "text/plain": [
       "'/opt/conda/lib/python3.11/site-packages/matplotlib/mpl-data/fonts/ttf/DejaVuSans.ttf'"
      ]
     },
     "execution_count": 1,
     "metadata": {},
     "output_type": "execute_result"
    }
   ],
   "source": [
    "import os\n",
    "import numpy as np\n",
    "import pandas as pd\n",
    "import geopandas as gpd\n",
    "import matplotlib.cm as cm\n",
    "import matplotlib.pyplot as plt\n",
    "\n",
    "import matplotlib\n",
    "import matplotlib.font_manager\n",
    "\n",
    "from requests import get\n",
    "from urllib.parse import urlparse\n",
    "\n",
    "# For debugging purposes (fonts can be hard)\n",
    "print(matplotlib.get_cachedir())\n",
    "\n",
    "# We change fonts the hard way in this notebook...\n",
    "# but you can also do this to change the default \n",
    "# font everywhere in one go:\n",
    "# matplotlib.rcParams['font.family'] = \"Liberation Sans Narrow\"\n",
    "fontname = \"DejaVu Sans\"\n",
    "\n",
    "matplotlib.font_manager.FontManager().findfont(fontname, fontext='ttf', rebuild_if_missing=True)"
   ]
  },
  {
   "cell_type": "code",
   "execution_count": 2,
   "id": "5fe2454f-67c5-419a-b8da-eb8feec6e620",
   "metadata": {},
   "outputs": [
    {
     "name": "stdout",
     "output_type": "stream",
     "text": [
      "Help on function cache_data in module __main__:\n",
      "\n",
      "cache_data(src: str, dest: str) -> str\n",
      "    Downloads and caches a file from the given URL if it does not already exist locally \n",
      "    or if the cached file is smaller than 250 bytes.\n",
      "    \n",
      "    Args:\n",
      "        src (str): The source URL to download the file from.\n",
      "        dest (str): The destination directory where the file should be stored.\n",
      "    \n",
      "    Returns:\n",
      "        str: The full path to the cached or downloaded file.\n",
      "    \n",
      "    Behavior:\n",
      "        - Parses the URL to extract the filename.\n",
      "        - Constructs the full destination path for the file.\n",
      "        - Checks if the file already exists in the destination directory and if its size \n",
      "          is at least 250 bytes.\n",
      "        - If the file is not present or is too small, downloads the file from the URL \n",
      "          and saves it in the specified directory, creating directories if needed.\n",
      "        - If the file is already present and meets the size condition, it skips the \n",
      "          download.\n",
      "    \n",
      "    Note:\n",
      "        - The function uses the `requests` library for HTTP requests.\n",
      "        - If the destination directory does not exist, it is created automatically.\n",
      "\n"
     ]
    }
   ],
   "source": [
    "\n",
    "\n",
    "def cache_data(src:str, dest:str) -> str:\n",
    "    \"\"\"\n",
    "    \n",
    "    Downloads and caches a file from the given URL if it does not already exist locally \n",
    "    or if the cached file is smaller than 250 bytes.\n",
    "\n",
    "    Args:\n",
    "        src (str): The source URL to download the file from.\n",
    "        dest (str): The destination directory where the file should be stored.\n",
    "\n",
    "    Returns:\n",
    "        str: The full path to the cached or downloaded file.\n",
    "\n",
    "    Behavior:\n",
    "        - Parses the URL to extract the filename.\n",
    "        - Constructs the full destination path for the file.\n",
    "        - Checks if the file already exists in the destination directory and if its size \n",
    "          is at least 250 bytes.\n",
    "        - If the file is not present or is too small, downloads the file from the URL \n",
    "          and saves it in the specified directory, creating directories if needed.\n",
    "        - If the file is already present and meets the size condition, it skips the \n",
    "          download.\n",
    "\n",
    "    Note:\n",
    "        - The function uses the `requests` library for HTTP requests.\n",
    "        - If the destination directory does not exist, it is created automatically.\n",
    "    \n",
    "    \n",
    "    \"\"\"    \n",
    "    url = urlparse(src) # We assume that this is some kind of valid URL \n",
    "    fn  = os.path.split(url.path)[-1] # Extract the filename\n",
    "    dfn = os.path.join(dest,fn) # Destination filename\n",
    "    \n",
    "    if not os.path.isfile(dfn) or os.path.getsize(dfn) < 250:\n",
    "        \n",
    "        print(f\"{dfn} not found, downloading!\")\n",
    "\n",
    "        path = os.path.split(dest)\n",
    "        \n",
    "        if len(path) >= 1 and path[0] != '':\n",
    "            os.makedirs(os.path.join(*path), exist_ok=True)\n",
    "            \n",
    "        with open(dfn, \"wb\") as file:  # write in binary\n",
    "            response = get(src)\n",
    "            file.write(response.content)  \n",
    "            #response.content:response.content \n",
    "            \n",
    "        print(\"\\tDone downloading...\")\n",
    "\n",
    "    else:\n",
    "        print(f\"Found {dfn} locally!\")\n",
    "\n",
    "    return dfn\n",
    "\n",
    "help(cache_data) # <- This should show the docstring you've written"
   ]
  },
  {
   "cell_type": "markdown",
   "id": "d3e288ab-b5b6-4cfd-b684-8e3169a805f4",
   "metadata": {},
   "source": [
    "```\n",
    "# Set download URL\n",
    "ymd  = '20240614'\n",
    "city = 'London'\n",
    "host = 'https://orca.casa.ucl.ac.uk'\n",
    "url  = f'{host}/~jreades/data/{ymd}-{city}-listings.csv.gz'\n",
    "# your code here\n",
    "df = pd.read_csv(url, compression='gzip', low_memory=False)\n",
    "print(f\"Data frame is {df.shape[0]:,} x {df.shape[1]}\") \n",
    "```"
   ]
  },
  {
   "cell_type": "markdown",
   "id": "a445bee9-2348-4533-8718-e66b0945051b",
   "metadata": {},
   "source": [
    "# Data load"
   ]
  },
  {
   "cell_type": "markdown",
   "id": "94bb002e-6d12-497c-a1ab-3cc8f4e9ea36",
   "metadata": {},
   "source": [
    "```\n",
    "df = pd.read_csv(os.path.join(path,fn), \n",
    "                low_memory=False, usecols=cols)\n",
    "df.info(verbose=True)\n",
    "```"
   ]
  },
  {
   "cell_type": "markdown",
   "id": "1d9e00c9-c1fd-4eeb-9cca-e1933af993c2",
   "metadata": {},
   "source": [
    "## listing data load "
   ]
  },
  {
   "cell_type": "code",
   "execution_count": 3,
   "id": "242ca88f-8d18-4b95-8257-e8fc1f151edb",
   "metadata": {},
   "outputs": [],
   "source": [
    "# Set download URL\n",
    "ymd  = '20240614'\n",
    "city = 'London'\n",
    "host = 'https://orca.casa.ucl.ac.uk'\n",
    "url  = f'{host}/~jreades/data/{ymd}-{city}-listings.csv.gz'"
   ]
  },
  {
   "cell_type": "code",
   "execution_count": 4,
   "id": "b168c60c-0e2b-4da1-bbf2-6520e518f6da",
   "metadata": {},
   "outputs": [
    {
     "name": "stdout",
     "output_type": "stream",
     "text": [
      "Writing to: 20240614-London-listings.csv.gz\n",
      "Found data/raw/20240614-London-listings.csv.gz locally!\n",
      "Data frame is 93,481 x 75\n"
     ]
    }
   ],
   "source": [
    "path = os.path.join('data','raw') # A default location to save raw data\n",
    "fn   = url.split('/')[-1]         # What does this do?\n",
    "print(f\"Writing to: {fn}\")\n",
    "\n",
    "df = pd.read_csv(cache_data(url, os.path.join('data','raw')))\n",
    "print(f\"Data frame is {df.shape[0]:,} x {df.shape[1]}\")"
   ]
  },
  {
   "cell_type": "markdown",
   "id": "fd8b224a-47f4-42df-8784-32c690b37940",
   "metadata": {},
   "source": [
    "## geo data load"
   ]
  },
  {
   "cell_type": "code",
   "execution_count": 5,
   "id": "7af4fdf0-66e4-495e-9b86-ec3900ea3dea",
   "metadata": {},
   "outputs": [
    {
     "name": "stdout",
     "output_type": "stream",
     "text": [
      "Found data/geo/Boroughs.gpkg locally!\n",
      "Found data/geo/Water.gpkg locally!\n",
      "Found data/geo/Greenspace.gpkg locally!\n",
      "Found data/geo/Roads.gpkg locally!\n",
      "Done.\n"
     ]
    }
   ],
   "source": [
    "ddir  = os.path.join('data','geo') # destination directory\n",
    "spath = 'https://github.com/jreades/i2p/blob/master/data/src/' # source path\n",
    "\n",
    "boros = gpd.read_file( cache_data(spath+'Boroughs.gpkg?raw=true', ddir) )\n",
    "water = gpd.read_file( cache_data(spath+'Water.gpkg?raw=true', ddir) )\n",
    "green = gpd.read_file( cache_data(spath+'Greenspace.gpkg?raw=true', ddir) )\n",
    "road =  gpd.read_file( cache_data(spath+'Roads.gpkg?raw=true', ddir) )\n",
    "print('Done.')"
   ]
  },
  {
   "cell_type": "markdown",
   "id": "4a6e00da-4de1-42df-a5ea-cd7d33d09504",
   "metadata": {},
   "source": [
    "## choose cols needed in listing data"
   ]
  },
  {
   "cell_type": "code",
   "execution_count": 6,
   "id": "8680c841-20ff-4eee-9019-1cd5127e9f07",
   "metadata": {},
   "outputs": [
    {
     "name": "stdout",
     "output_type": "stream",
     "text": [
      "<class 'pandas.core.frame.DataFrame'>\n",
      "RangeIndex: 93481 entries, 0 to 93480\n",
      "Data columns (total 75 columns):\n",
      " #   Column                                        Non-Null Count  Dtype  \n",
      "---  ------                                        --------------  -----  \n",
      " 0   id                                            93481 non-null  int64  \n",
      " 1   listing_url                                   93481 non-null  object \n",
      " 2   scrape_id                                     93481 non-null  int64  \n",
      " 3   last_scraped                                  93481 non-null  object \n",
      " 4   source                                        93481 non-null  object \n",
      " 5   name                                          93481 non-null  object \n",
      " 6   description                                   90292 non-null  object \n",
      " 7   neighborhood_overview                         46671 non-null  object \n",
      " 8   picture_url                                   93472 non-null  object \n",
      " 9   host_id                                       93481 non-null  int64  \n",
      " 10  host_url                                      93481 non-null  object \n",
      " 11  host_name                                     93475 non-null  object \n",
      " 12  host_since                                    93475 non-null  object \n",
      " 13  host_location                                 72289 non-null  object \n",
      " 14  host_about                                    47797 non-null  object \n",
      " 15  host_response_time                            62230 non-null  object \n",
      " 16  host_response_rate                            62230 non-null  object \n",
      " 17  host_acceptance_rate                          67454 non-null  object \n",
      " 18  host_is_superhost                             93022 non-null  object \n",
      " 19  host_thumbnail_url                            93475 non-null  object \n",
      " 20  host_picture_url                              93475 non-null  object \n",
      " 21  host_neighbourhood                            46904 non-null  object \n",
      " 22  host_listings_count                           93475 non-null  float64\n",
      " 23  host_total_listings_count                     93475 non-null  float64\n",
      " 24  host_verifications                            93475 non-null  object \n",
      " 25  host_has_profile_pic                          93475 non-null  object \n",
      " 26  host_identity_verified                        93475 non-null  object \n",
      " 27  neighbourhood                                 46672 non-null  object \n",
      " 28  neighbourhood_cleansed                        93481 non-null  object \n",
      " 29  neighbourhood_group_cleansed                  0 non-null      float64\n",
      " 30  latitude                                      93481 non-null  float64\n",
      " 31  longitude                                     93481 non-null  float64\n",
      " 32  property_type                                 93481 non-null  object \n",
      " 33  room_type                                     93481 non-null  object \n",
      " 34  accommodates                                  93481 non-null  int64  \n",
      " 35  bathrooms                                     61359 non-null  float64\n",
      " 36  bathrooms_text                                93331 non-null  object \n",
      " 37  bedrooms                                      81800 non-null  float64\n",
      " 38  beds                                          61288 non-null  float64\n",
      " 39  amenities                                     93481 non-null  object \n",
      " 40  price                                         61422 non-null  object \n",
      " 41  minimum_nights                                93481 non-null  int64  \n",
      " 42  maximum_nights                                93481 non-null  int64  \n",
      " 43  minimum_minimum_nights                        93480 non-null  float64\n",
      " 44  maximum_minimum_nights                        93480 non-null  float64\n",
      " 45  minimum_maximum_nights                        93480 non-null  float64\n",
      " 46  maximum_maximum_nights                        93480 non-null  float64\n",
      " 47  minimum_nights_avg_ntm                        93480 non-null  float64\n",
      " 48  maximum_nights_avg_ntm                        93480 non-null  float64\n",
      " 49  calendar_updated                              0 non-null      float64\n",
      " 50  has_availability                              89395 non-null  object \n",
      " 51  availability_30                               93481 non-null  int64  \n",
      " 52  availability_60                               93481 non-null  int64  \n",
      " 53  availability_90                               93481 non-null  int64  \n",
      " 54  availability_365                              93481 non-null  int64  \n",
      " 55  calendar_last_scraped                         93481 non-null  object \n",
      " 56  number_of_reviews                             93481 non-null  int64  \n",
      " 57  number_of_reviews_ltm                         93481 non-null  int64  \n",
      " 58  number_of_reviews_l30d                        93481 non-null  int64  \n",
      " 59  first_review                                  68739 non-null  object \n",
      " 60  last_review                                   68739 non-null  object \n",
      " 61  review_scores_rating                          68739 non-null  float64\n",
      " 62  review_scores_accuracy                        68661 non-null  float64\n",
      " 63  review_scores_cleanliness                     68668 non-null  float64\n",
      " 64  review_scores_checkin                         68631 non-null  float64\n",
      " 65  review_scores_communication                   68656 non-null  float64\n",
      " 66  review_scores_location                        68630 non-null  float64\n",
      " 67  review_scores_value                           68631 non-null  float64\n",
      " 68  license                                       0 non-null      float64\n",
      " 69  instant_bookable                              93481 non-null  object \n",
      " 70  calculated_host_listings_count                93481 non-null  int64  \n",
      " 71  calculated_host_listings_count_entire_homes   93481 non-null  int64  \n",
      " 72  calculated_host_listings_count_private_rooms  93481 non-null  int64  \n",
      " 73  calculated_host_listings_count_shared_rooms   93481 non-null  int64  \n",
      " 74  reviews_per_month                             68739 non-null  float64\n",
      "dtypes: float64(24), int64(17), object(34)\n",
      "memory usage: 53.5+ MB\n"
     ]
    }
   ],
   "source": [
    "# airbnb listing\n",
    "df.info()"
   ]
  },
  {
   "cell_type": "code",
   "execution_count": 7,
   "id": "1d962ac7-8f3f-4ccc-901b-2f2a3a712eae",
   "metadata": {},
   "outputs": [
    {
     "name": "stdout",
     "output_type": "stream",
     "text": [
      "Cols contains 32 columns.\n"
     ]
    }
   ],
   "source": [
    "# cols for Q6 to explore\n",
    "cols = ['id', 'listing_url', 'host_id', \n",
    "        'host_name', 'host_since', 'host_location', 'host_about', 'host_is_superhost', \n",
    "        'host_listings_count', 'host_total_listings_count', \n",
    "        'latitude', 'longitude', 'neighbourhood_cleansed', 'property_type', 'room_type', 'accommodates', \n",
    "        'bathrooms', 'bathrooms_text', 'bedrooms', 'beds', 'amenities', 'price', \n",
    "        'minimum_nights', 'maximum_nights', 'availability_365', 'number_of_reviews', \n",
    "        'calculated_host_listings_count', 'calculated_host_listings_count_entire_homes',\n",
    "        'calculated_host_listings_count_entire_homes', 'calculated_host_listings_count_shared_rooms',\n",
    "        'review_scores_rating', \n",
    "        'reviews_per_month']\n",
    "print(f\"Cols contains {len(cols)} columns.\")\n",
    "\n",
    "# what the diff between ['host_listings_count'] ['host_total_listings_count']  ['calculated_host_listings_count'] "
   ]
  },
  {
   "cell_type": "markdown",
   "id": "c4c49b36-bffb-42a5-8f3d-3e5dbf35bc17",
   "metadata": {},
   "source": [
    "## testing bottom and cols subset"
   ]
  },
  {
   "cell_type": "code",
   "execution_count": 8,
   "id": "f7cb33c9-cec8-4d43-bc6d-c00642da5b16",
   "metadata": {},
   "outputs": [
    {
     "name": "stdout",
     "output_type": "stream",
     "text": [
      "Data frame is 93,481 x 31\n"
     ]
    }
   ],
   "source": [
    "testing = False\n",
    "\n",
    "\n",
    "if testing:\n",
    "    df = pd.read_csv(os.path.join(path,fn), \n",
    "                low_memory=False, nrows=10000, usecols=cols)\n",
    "else:\n",
    "    df = pd.read_csv(os.path.join(path,fn), \n",
    "                low_memory=False, usecols=cols)\n",
    "\n",
    "print(f\"Data frame is {df.shape[0]:,} x {df.shape[1]}\")"
   ]
  },
  {
   "cell_type": "code",
   "execution_count": 9,
   "id": "c6c6f39d-c592-4365-93a4-59d09573233c",
   "metadata": {},
   "outputs": [
    {
     "data": {
      "text/plain": [
       "Index                                               132\n",
       "id                                               747848\n",
       "listing_url                                     9290362\n",
       "host_id                                          747848\n",
       "host_name                                       5939562\n",
       "host_since                                      6263017\n",
       "host_location                                   6400285\n",
       "host_about                                     25216166\n",
       "host_is_superhost                               5409964\n",
       "host_listings_count                              747848\n",
       "host_total_listings_count                        747848\n",
       "neighbourhood_cleansed                          6303994\n",
       "latitude                                         747848\n",
       "longitude                                        747848\n",
       "property_type                                   7094542\n",
       "room_type                                       6626919\n",
       "accommodates                                     747848\n",
       "bathrooms                                        747848\n",
       "bathrooms_text                                  6112432\n",
       "bedrooms                                         747848\n",
       "beds                                             747848\n",
       "amenities                                      48261056\n",
       "price                                           4937287\n",
       "minimum_nights                                   747848\n",
       "maximum_nights                                   747848\n",
       "availability_365                                 747848\n",
       "number_of_reviews                                747848\n",
       "review_scores_rating                             747848\n",
       "calculated_host_listings_count                   747848\n",
       "calculated_host_listings_count_entire_homes      747848\n",
       "calculated_host_listings_count_shared_rooms      747848\n",
       "reviews_per_month                                747848\n",
       "dtype: int64"
      ]
     },
     "execution_count": 9,
     "metadata": {},
     "output_type": "execute_result"
    }
   ],
   "source": [
    "df.memory_usage(index=True, deep=True)"
   ]
  },
  {
   "cell_type": "markdown",
   "id": "e5b70f61-6694-4f09-a858-8c3a809a0053",
   "metadata": {},
   "source": [
    "## check data before clean"
   ]
  },
  {
   "cell_type": "code",
   "execution_count": 10,
   "id": "1c7d49a8-41b7-46c7-ab0d-e3ffa53920f4",
   "metadata": {},
   "outputs": [
    {
     "name": "stdout",
     "output_type": "stream",
     "text": [
      "['id', 'listing_url', 'host_id', 'host_name', 'host_since', 'host_location', 'host_about', 'host_is_superhost', 'host_listings_count', 'host_total_listings_count', 'neighbourhood_cleansed', 'latitude', 'longitude', 'property_type', 'room_type', 'accommodates', 'bathrooms', 'bathrooms_text', 'bedrooms', 'beds', 'amenities', 'price', 'minimum_nights', 'maximum_nights', 'availability_365', 'number_of_reviews', 'review_scores_rating', 'calculated_host_listings_count', 'calculated_host_listings_count_entire_homes', 'calculated_host_listings_count_shared_rooms', 'reviews_per_month']\n"
     ]
    }
   ],
   "source": [
    "print(df.columns.to_list())"
   ]
  },
  {
   "cell_type": "code",
   "execution_count": 11,
   "id": "46797b5b-1435-4871-a745-5c9b50dafceb",
   "metadata": {},
   "outputs": [
    {
     "name": "stdout",
     "output_type": "stream",
     "text": [
      "<class 'pandas.core.frame.DataFrame'>\n",
      "RangeIndex: 93481 entries, 0 to 93480\n",
      "Data columns (total 31 columns):\n",
      " #   Column                                       Non-Null Count  Dtype  \n",
      "---  ------                                       --------------  -----  \n",
      " 0   id                                           93481 non-null  int64  \n",
      " 1   listing_url                                  93481 non-null  object \n",
      " 2   host_id                                      93481 non-null  int64  \n",
      " 3   host_name                                    93475 non-null  object \n",
      " 4   host_since                                   93475 non-null  object \n",
      " 5   host_location                                72289 non-null  object \n",
      " 6   host_about                                   47797 non-null  object \n",
      " 7   host_is_superhost                            93022 non-null  object \n",
      " 8   host_listings_count                          93475 non-null  float64\n",
      " 9   host_total_listings_count                    93475 non-null  float64\n",
      " 10  neighbourhood_cleansed                       93481 non-null  object \n",
      " 11  latitude                                     93481 non-null  float64\n",
      " 12  longitude                                    93481 non-null  float64\n",
      " 13  property_type                                93481 non-null  object \n",
      " 14  room_type                                    93481 non-null  object \n",
      " 15  accommodates                                 93481 non-null  int64  \n",
      " 16  bathrooms                                    61359 non-null  float64\n",
      " 17  bathrooms_text                               93331 non-null  object \n",
      " 18  bedrooms                                     81800 non-null  float64\n",
      " 19  beds                                         61288 non-null  float64\n",
      " 20  amenities                                    93481 non-null  object \n",
      " 21  price                                        61422 non-null  object \n",
      " 22  minimum_nights                               93481 non-null  int64  \n",
      " 23  maximum_nights                               93481 non-null  int64  \n",
      " 24  availability_365                             93481 non-null  int64  \n",
      " 25  number_of_reviews                            93481 non-null  int64  \n",
      " 26  review_scores_rating                         68739 non-null  float64\n",
      " 27  calculated_host_listings_count               93481 non-null  int64  \n",
      " 28  calculated_host_listings_count_entire_homes  93481 non-null  int64  \n",
      " 29  calculated_host_listings_count_shared_rooms  93481 non-null  int64  \n",
      " 30  reviews_per_month                            68739 non-null  float64\n",
      "dtypes: float64(9), int64(10), object(12)\n",
      "memory usage: 22.1+ MB\n"
     ]
    }
   ],
   "source": [
    "df.info()"
   ]
  },
  {
   "cell_type": "markdown",
   "id": "98d3805e-296f-400a-ae3a-49404a85ad09",
   "metadata": {},
   "source": [
    "'price''host_listings_count'"
   ]
  },
  {
   "cell_type": "markdown",
   "id": "281cd5e0-688a-4609-a475-5652df86d925",
   "metadata": {},
   "source": [
    "# Data clean"
   ]
  },
  {
   "cell_type": "markdown",
   "id": "543318f7-7d36-4f5d-9706-26d061ec6ee3",
   "metadata": {},
   "source": [
    "## NA check and deal with row with problems"
   ]
  },
  {
   "cell_type": "code",
   "execution_count": 12,
   "id": "adcebb94-8370-410c-8612-f6f2f668c7a6",
   "metadata": {},
   "outputs": [
    {
     "name": "stdout",
     "output_type": "stream",
     "text": [
      "                           Missing Count  Missing Percentage\n",
      "host_about                         45684               48.87\n",
      "beds                               32193               34.44\n",
      "bathrooms                          32122               34.36\n",
      "price                              32059               34.29\n",
      "review_scores_rating               24742               26.47\n",
      "reviews_per_month                  24742               26.47\n",
      "host_location                      21192               22.67\n",
      "bedrooms                           11681               12.50\n",
      "host_is_superhost                    459                0.49\n",
      "bathrooms_text                       150                0.16\n",
      "host_listings_count                    6                0.01\n",
      "host_since                             6                0.01\n",
      "host_name                              6                0.01\n",
      "host_total_listings_count              6                0.01\n"
     ]
    }
   ],
   "source": [
    "#get a summary table of Na in each column\n",
    "na_counts = df.isnull().sum()\n",
    "na_percentage = (df.isnull().mean() * 100).round(2)\n",
    "\n",
    "na_summary = pd.DataFrame({'Missing Count': na_counts, 'Missing Percentage': na_percentage})\n",
    "\n",
    "na_summary = na_summary[na_summary['Missing Count'] > 0].sort_values(by='Missing Percentage', ascending=False)\n",
    "\n",
    "print(na_summary)"
   ]
  },
  {
   "cell_type": "code",
   "execution_count": 13,
   "id": "766d476c-b2d2-45db-b1ff-f5e1010313d0",
   "metadata": {},
   "outputs": [
    {
     "data": {
      "text/plain": [
       "4684     12\n",
       "13539    12\n",
       "45832    12\n",
       "8322     12\n",
       "4801     12\n",
       "27428     9\n",
       "7173      9\n",
       "4448      9\n",
       "20813     8\n",
       "29962     8\n",
       "26720     8\n",
       "38283     8\n",
       "38325     8\n",
       "78107     8\n",
       "69472     8\n",
       "65586     8\n",
       "9779      8\n",
       "9668      8\n",
       "65617     8\n",
       "48246     8\n",
       "dtype: int64"
      ]
     },
     "execution_count": 13,
     "metadata": {},
     "output_type": "execute_result"
    }
   ],
   "source": [
    "#get how many Na are in specific row\n",
    "df.isnull().sum(axis=1).sort_values(ascending=False).head(20)"
   ]
  },
  {
   "cell_type": "code",
   "execution_count": 14,
   "id": "58c013a8-e884-4721-b133-74073db021a1",
   "metadata": {},
   "outputs": [
    {
     "name": "stdout",
     "output_type": "stream",
     "text": [
      "<class 'pandas.core.series.Series'>\n",
      "Have reduced data frame to: 84,702 rows and 31 columns\n"
     ]
    },
    {
     "data": {
      "image/png": "[encoded data removed]",
      "text/plain": [
       "<Figure size 640x480 with 1 Axes>"
      ]
     },
     "metadata": {},
     "output_type": "display_data"
    }
   ],
   "source": [
    "# store these rows to drop problem rows(with to many NA)\n",
    "probs = df.isnull().sum(axis=1)\n",
    "print(type(probs))       \n",
    "probs.plot.hist(bins=30) \n",
    "cutoff = 5\n",
    "df.drop(probs[probs > cutoff].index, inplace=True)\n",
    "print(f\"Have reduced data frame to: {df.shape[0]:,} rows and {df.shape[1]:,} columns\")"
   ]
  },
  {
   "cell_type": "markdown",
   "id": "712fb0b7-1be9-4480-adcb-2a5510fa3b04",
   "metadata": {},
   "source": [
    "## Data type change"
   ]
  },
  {
   "cell_type": "markdown",
   "id": "80552c5c-d59a-4b95-be55-88b9107e56c0",
   "metadata": {
    "jp-MarkdownHeadingCollapsed": true
   },
   "source": [
    "### Bool"
   ]
  },
  {
   "cell_type": "code",
   "execution_count": 15,
   "id": "6120a031-af64-4721-a7cb-0eb55a2b45c7",
   "metadata": {},
   "outputs": [
    {
     "name": "stdout",
     "output_type": "stream",
     "text": [
      "Converting host_is_superhost\n"
     ]
    }
   ],
   "source": [
    "# find cols should be bool but show object\n",
    "bools = ['host_is_superhost']\n",
    "df.sample(5, random_state=43)[bools]\n",
    "# map 't' and 'f' to True and False\n",
    "for b in bools:\n",
    "    print(f\"Converting {b}\")\n",
    "    df[b] = df[b].replace({'f':False, 't':True}).astype('bool')"
   ]
  },
  {
   "cell_type": "markdown",
   "id": "dcd3af73-9365-4f31-a730-65978c5290f7",
   "metadata": {
    "jp-MarkdownHeadingCollapsed": true
   },
   "source": [
    "### Dates"
   ]
  },
  {
   "cell_type": "code",
   "execution_count": 16,
   "id": "decf71f8-2891-4e8e-b2ea-fc9428b2ed1b",
   "metadata": {},
   "outputs": [
    {
     "name": "stdout",
     "output_type": "stream",
     "text": [
      "Currently host_since is of type 'object' \n",
      "\n",
      "Converting host_since\n",
      "Now host_since is of type 'datetime64[ns]' \n",
      "\n"
     ]
    }
   ],
   "source": [
    "# find cols should be date but show object\n",
    "dates = ['host_since']\n",
    "print(f\"Currently {dates[0]} is of type '{df[dates[0]].dtype}'\", \"\\n\")\n",
    "df.sample(5, random_state=43)[dates]\n",
    "\n",
    "for d in dates:\n",
    "    print(\"Converting \" + d)\n",
    "    df[d] = pd.to_datetime(df[d])\n",
    "print(f\"Now {dates[0]} is of type '{df[dates[0]].dtype}'\", \"\\n\")"
   ]
  },
  {
   "cell_type": "markdown",
   "id": "61d86cc8-17cf-4473-865b-71daeda5dc7a",
   "metadata": {
    "jp-MarkdownHeadingCollapsed": true
   },
   "source": [
    "### Category"
   ]
  },
  {
   "cell_type": "code",
   "execution_count": 17,
   "id": "bdcef194-ad0e-49c2-8e05-d8b94cb51e1c",
   "metadata": {},
   "outputs": [
    {
     "name": "stdout",
     "output_type": "stream",
     "text": [
      "Currently room_type is of type 'object' \n",
      "\n"
     ]
    },
    {
     "data": {
      "text/html": [
       "<div>\n",
       "<style scoped>\n",
       "    .dataframe tbody tr th:only-of-type {\n",
       "        vertical-align: middle;\n",
       "    }\n",
       "\n",
       "    .dataframe tbody tr th {\n",
       "        vertical-align: top;\n",
       "    }\n",
       "\n",
       "    .dataframe thead th {\n",
       "        text-align: right;\n",
       "    }\n",
       "</style>\n",
       "<table border=\"1\" class=\"dataframe\">\n",
       "  <thead>\n",
       "    <tr style=\"text-align: right;\">\n",
       "      <th></th>\n",
       "      <th>property_type</th>\n",
       "      <th>room_type</th>\n",
       "    </tr>\n",
       "  </thead>\n",
       "  <tbody>\n",
       "    <tr>\n",
       "      <th>23473</th>\n",
       "      <td>Private room in home</td>\n",
       "      <td>Private room</td>\n",
       "    </tr>\n",
       "    <tr>\n",
       "      <th>2944</th>\n",
       "      <td>Entire rental unit</td>\n",
       "      <td>Entire home/apt</td>\n",
       "    </tr>\n",
       "    <tr>\n",
       "      <th>33647</th>\n",
       "      <td>Entire rental unit</td>\n",
       "      <td>Entire home/apt</td>\n",
       "    </tr>\n",
       "    <tr>\n",
       "      <th>24663</th>\n",
       "      <td>Entire rental unit</td>\n",
       "      <td>Entire home/apt</td>\n",
       "    </tr>\n",
       "    <tr>\n",
       "      <th>16152</th>\n",
       "      <td>Entire rental unit</td>\n",
       "      <td>Entire home/apt</td>\n",
       "    </tr>\n",
       "  </tbody>\n",
       "</table>\n",
       "</div>"
      ],
      "text/plain": [
       "              property_type        room_type\n",
       "23473  Private room in home     Private room\n",
       "2944     Entire rental unit  Entire home/apt\n",
       "33647    Entire rental unit  Entire home/apt\n",
       "24663    Entire rental unit  Entire home/apt\n",
       "16152    Entire rental unit  Entire home/apt"
      ]
     },
     "execution_count": 17,
     "metadata": {},
     "output_type": "execute_result"
    }
   ],
   "source": [
    "# find cols should be cats but show object\n",
    "cats = ['property_type','room_type']\n",
    "\n",
    "print(f\"Currently {cats[1]} is of type '{df[cats[1]].dtype}'\", \"\\n\")\n",
    "df.sample(5, random_state=42)[cats]\n"
   ]
  },
  {
   "cell_type": "code",
   "execution_count": 18,
   "id": "af3b943d-b12a-4175-a422-fe1d9a28ce6d",
   "metadata": {},
   "outputs": [
    {
     "name": "stdout",
     "output_type": "stream",
     "text": [
      "property_type\n",
      "Entire rental unit              35478\n",
      "Private room in rental unit     11564\n",
      "Private room in home             9796\n",
      "Entire condo                     8556\n",
      "Entire home                      7867\n",
      "                                ...  \n",
      "Private room in treehouse           1\n",
      "Riad                                1\n",
      "Private room in chalet              1\n",
      "Shared room in vacation home        1\n",
      "Private room in floor               1\n",
      "Name: count, Length: 95, dtype: int64\n",
      "room_type\n",
      "Entire home/apt    56006\n",
      "Private room       28171\n",
      "Shared room          345\n",
      "Hotel room           180\n",
      "Name: count, dtype: int64\n"
     ]
    }
   ],
   "source": [
    "# see unique value in cols and frequency\n",
    "print(df[cats[0]].value_counts())\n",
    "print(df[cats[1]].value_counts())"
   ]
  },
  {
   "cell_type": "code",
   "execution_count": 19,
   "id": "477f5ae3-068a-4015-8fec-e1f938282eb6",
   "metadata": {},
   "outputs": [
    {
     "name": "stdout",
     "output_type": "stream",
     "text": [
      "Converting property_type\n",
      "Converting room_type\n"
     ]
    }
   ],
   "source": [
    "# convert dtype\n",
    "for c in cats:\n",
    "    print(f\"Converting {c}\")\n",
    "    df[c] = df[c].astype('category')"
   ]
  },
  {
   "cell_type": "markdown",
   "id": "2df73376-c50f-4a66-88b7-c8b26f922859",
   "metadata": {},
   "source": [
    "### String->"
   ]
  },
  {
   "cell_type": "code",
   "execution_count": 20,
   "id": "4557f1c0-cedc-4146-bdd1-952485d90994",
   "metadata": {},
   "outputs": [
    {
     "data": {
      "text/html": [
       "<div>\n",
       "<style scoped>\n",
       "    .dataframe tbody tr th:only-of-type {\n",
       "        vertical-align: middle;\n",
       "    }\n",
       "\n",
       "    .dataframe tbody tr th {\n",
       "        vertical-align: top;\n",
       "    }\n",
       "\n",
       "    .dataframe thead th {\n",
       "        text-align: right;\n",
       "    }\n",
       "</style>\n",
       "<table border=\"1\" class=\"dataframe\">\n",
       "  <thead>\n",
       "    <tr style=\"text-align: right;\">\n",
       "      <th></th>\n",
       "      <th>price</th>\n",
       "    </tr>\n",
       "  </thead>\n",
       "  <tbody>\n",
       "    <tr>\n",
       "      <th>43988</th>\n",
       "      <td>NaN</td>\n",
       "    </tr>\n",
       "    <tr>\n",
       "      <th>32860</th>\n",
       "      <td>NaN</td>\n",
       "    </tr>\n",
       "    <tr>\n",
       "      <th>31339</th>\n",
       "      <td>$290.00</td>\n",
       "    </tr>\n",
       "    <tr>\n",
       "      <th>35642</th>\n",
       "      <td>$59.00</td>\n",
       "    </tr>\n",
       "    <tr>\n",
       "      <th>88571</th>\n",
       "      <td>$89.00</td>\n",
       "    </tr>\n",
       "  </tbody>\n",
       "</table>\n",
       "</div>"
      ],
      "text/plain": [
       "         price\n",
       "43988      NaN\n",
       "32860      NaN\n",
       "31339  $290.00\n",
       "35642   $59.00\n",
       "88571   $89.00"
      ]
     },
     "execution_count": 20,
     "metadata": {},
     "output_type": "execute_result"
    }
   ],
   "source": [
    "# convert object has numeric meaning \n",
    "money = ['price']\n",
    "df.sample(5, random_state=43)[money]"
   ]
  },
  {
   "cell_type": "code",
   "execution_count": 21,
   "id": "9bacf116-1534-423d-9a0d-ad924bb73aca",
   "metadata": {},
   "outputs": [
    {
     "name": "stdout",
     "output_type": "stream",
     "text": [
      "Converting price\n"
     ]
    }
   ],
   "source": [
    "for m in money:\n",
    "    print(f\"Converting {m}\")\n",
    "    df[m] = df[m].str.replace('$','', regex=False).str.replace(',','').astype('float')"
   ]
  },
  {
   "cell_type": "code",
   "execution_count": 22,
   "id": "ee9ca7fd-6980-443c-b8f9-986250a07eaa",
   "metadata": {},
   "outputs": [
    {
     "data": {
      "text/html": [
       "<div>\n",
       "<style scoped>\n",
       "    .dataframe tbody tr th:only-of-type {\n",
       "        vertical-align: middle;\n",
       "    }\n",
       "\n",
       "    .dataframe tbody tr th {\n",
       "        vertical-align: top;\n",
       "    }\n",
       "\n",
       "    .dataframe thead th {\n",
       "        text-align: right;\n",
       "    }\n",
       "</style>\n",
       "<table border=\"1\" class=\"dataframe\">\n",
       "  <thead>\n",
       "    <tr style=\"text-align: right;\">\n",
       "      <th></th>\n",
       "      <th>price</th>\n",
       "    </tr>\n",
       "  </thead>\n",
       "  <tbody>\n",
       "    <tr>\n",
       "      <th>43988</th>\n",
       "      <td>NaN</td>\n",
       "    </tr>\n",
       "    <tr>\n",
       "      <th>32860</th>\n",
       "      <td>NaN</td>\n",
       "    </tr>\n",
       "    <tr>\n",
       "      <th>31339</th>\n",
       "      <td>290.0</td>\n",
       "    </tr>\n",
       "    <tr>\n",
       "      <th>35642</th>\n",
       "      <td>59.0</td>\n",
       "    </tr>\n",
       "    <tr>\n",
       "      <th>88571</th>\n",
       "      <td>89.0</td>\n",
       "    </tr>\n",
       "  </tbody>\n",
       "</table>\n",
       "</div>"
      ],
      "text/plain": [
       "       price\n",
       "43988    NaN\n",
       "32860    NaN\n",
       "31339  290.0\n",
       "35642   59.0\n",
       "88571   89.0"
      ]
     },
     "execution_count": 22,
     "metadata": {},
     "output_type": "execute_result"
    }
   ],
   "source": [
    "df.sample(5, random_state=43)[money]"
   ]
  },
  {
   "cell_type": "markdown",
   "id": "787bffbd-a76f-456c-a80e-8172edfed2bd",
   "metadata": {},
   "source": [
    "### Integer"
   ]
  },
  {
   "cell_type": "code",
   "execution_count": 23,
   "id": "9f527a11-e3aa-406a-b35e-5023a8d6a936",
   "metadata": {},
   "outputs": [
    {
     "name": "stdout",
     "output_type": "stream",
     "text": [
      "<class 'pandas.core.frame.DataFrame'>\n",
      "Index: 84702 entries, 0 to 93480\n",
      "Data columns (total 31 columns):\n",
      " #   Column                                       Non-Null Count  Dtype         \n",
      "---  ------                                       --------------  -----         \n",
      " 0   id                                           84702 non-null  int64         \n",
      " 1   listing_url                                  84702 non-null  object        \n",
      " 2   host_id                                      84702 non-null  int64         \n",
      " 3   host_name                                    84702 non-null  object        \n",
      " 4   host_since                                   84702 non-null  datetime64[ns]\n",
      " 5   host_location                                66602 non-null  object        \n",
      " 6   host_about                                   46051 non-null  object        \n",
      " 7   host_is_superhost                            84702 non-null  bool          \n",
      " 8   host_listings_count                          84702 non-null  float64       \n",
      " 9   host_total_listings_count                    84702 non-null  float64       \n",
      " 10  neighbourhood_cleansed                       84702 non-null  object        \n",
      " 11  latitude                                     84702 non-null  float64       \n",
      " 12  longitude                                    84702 non-null  float64       \n",
      " 13  property_type                                84702 non-null  category      \n",
      " 14  room_type                                    84702 non-null  category      \n",
      " 15  accommodates                                 84702 non-null  int64         \n",
      " 16  bathrooms                                    61358 non-null  float64       \n",
      " 17  bathrooms_text                               84619 non-null  object        \n",
      " 18  bedrooms                                     78139 non-null  float64       \n",
      " 19  beds                                         61265 non-null  float64       \n",
      " 20  amenities                                    84702 non-null  object        \n",
      " 21  price                                        61395 non-null  float64       \n",
      " 22  minimum_nights                               84702 non-null  int64         \n",
      " 23  maximum_nights                               84702 non-null  int64         \n",
      " 24  availability_365                             84702 non-null  int64         \n",
      " 25  number_of_reviews                            84702 non-null  int64         \n",
      " 26  review_scores_rating                         68044 non-null  float64       \n",
      " 27  calculated_host_listings_count               84702 non-null  int64         \n",
      " 28  calculated_host_listings_count_entire_homes  84702 non-null  int64         \n",
      " 29  calculated_host_listings_count_shared_rooms  84702 non-null  int64         \n",
      " 30  reviews_per_month                            68044 non-null  float64       \n",
      "dtypes: bool(1), category(2), datetime64[ns](1), float64(10), int64(10), object(7)\n",
      "memory usage: 19.0+ MB\n"
     ]
    }
   ],
   "source": [
    "df.info()"
   ]
  },
  {
   "cell_type": "code",
   "execution_count": 24,
   "id": "f8f39795-46c0-4d18-9128-f0a912adf606",
   "metadata": {},
   "outputs": [
    {
     "name": "stdout",
     "output_type": "stream",
     "text": [
      "Columns with dtype int64:\n",
      "Index(['id', 'host_id', 'accommodates', 'minimum_nights', 'maximum_nights',\n",
      "       'availability_365', 'number_of_reviews',\n",
      "       'calculated_host_listings_count',\n",
      "       'calculated_host_listings_count_entire_homes',\n",
      "       'calculated_host_listings_count_shared_rooms'],\n",
      "      dtype='object')\n"
     ]
    }
   ],
   "source": [
    "int64_columns = df.select_dtypes(include=['int64']).columns\n",
    "\n",
    "print(\"Columns with dtype int64:\")\n",
    "print(int64_columns)\n"
   ]
  },
  {
   "cell_type": "code",
   "execution_count": 25,
   "id": "266d624f-cfeb-4574-a264-6b133fc46fa3",
   "metadata": {},
   "outputs": [
    {
     "name": "stdout",
     "output_type": "stream",
     "text": [
      "Converting id\n",
      "Converting host_id\n",
      "Converting host_listings_count\n",
      "Converting host_total_listings_count\n",
      "Converting accommodates\n",
      "Converting minimum_nights\n",
      "Converting maximum_nights\n",
      "Converting availability_365\n",
      "Converting number_of_reviews\n",
      "Converting calculated_host_listings_count\n",
      "Converting calculated_host_listings_count_entire_homes\n",
      "Converting calculated_host_listings_count_shared_rooms\n"
     ]
    }
   ],
   "source": [
    "ints  = ['id', 'host_id', 'host_listings_count', 'host_total_listings_count',\n",
    "       'accommodates', 'minimum_nights', 'maximum_nights', 'availability_365',\n",
    "       'number_of_reviews', 'calculated_host_listings_count',\n",
    "       'calculated_host_listings_count_entire_homes',\n",
    "       'calculated_host_listings_count_shared_rooms']\n",
    "for i in ints:\n",
    "    print(f\"Converting {i}\")\n",
    "    try:\n",
    "        df[i] = df[i].astype('float').astype('int')\n",
    "    except ValueError as e:\n",
    "        print(\"  - !!!Converting to unsigned 16-bit integer!!!\")\n",
    "        df[i] = df[i].astype('float').astype(pd.UInt16Dtype())"
   ]
  },
  {
   "cell_type": "code",
   "execution_count": 26,
   "id": "56282c55-41b6-42d0-b1b4-0cb2f26dbec7",
   "metadata": {},
   "outputs": [
    {
     "name": "stdout",
     "output_type": "stream",
     "text": [
      "id                                             0\n",
      "host_id                                        0\n",
      "host_listings_count                            0\n",
      "host_total_listings_count                      0\n",
      "accommodates                                   0\n",
      "minimum_nights                                 0\n",
      "maximum_nights                                 0\n",
      "availability_365                               0\n",
      "number_of_reviews                              0\n",
      "calculated_host_listings_count                 0\n",
      "calculated_host_listings_count_entire_homes    0\n",
      "calculated_host_listings_count_shared_rooms    0\n",
      "dtype: int64\n"
     ]
    }
   ],
   "source": [
    "#check Na NaN\n",
    "nan_counts = df[ints].isna().sum()\n",
    "print(nan_counts)\n"
   ]
  },
  {
   "cell_type": "markdown",
   "id": "e71a55d2-2734-45b9-ad11-300e5b86d32b",
   "metadata": {},
   "source": [
    "# Final check and save clean data"
   ]
  },
  {
   "cell_type": "code",
   "execution_count": 27,
   "id": "a475b977-8c69-4d0f-8da1-d1e5f9a4f508",
   "metadata": {},
   "outputs": [
    {
     "name": "stdout",
     "output_type": "stream",
     "text": [
      "<class 'pandas.core.frame.DataFrame'>\n",
      "Index: 84702 entries, 0 to 93480\n",
      "Data columns (total 31 columns):\n",
      " #   Column                                       Non-Null Count  Dtype         \n",
      "---  ------                                       --------------  -----         \n",
      " 0   id                                           84702 non-null  int64         \n",
      " 1   listing_url                                  84702 non-null  object        \n",
      " 2   host_id                                      84702 non-null  int64         \n",
      " 3   host_name                                    84702 non-null  object        \n",
      " 4   host_since                                   84702 non-null  datetime64[ns]\n",
      " 5   host_location                                66602 non-null  object        \n",
      " 6   host_about                                   46051 non-null  object        \n",
      " 7   host_is_superhost                            84702 non-null  bool          \n",
      " 8   host_listings_count                          84702 non-null  int64         \n",
      " 9   host_total_listings_count                    84702 non-null  int64         \n",
      " 10  neighbourhood_cleansed                       84702 non-null  object        \n",
      " 11  latitude                                     84702 non-null  float64       \n",
      " 12  longitude                                    84702 non-null  float64       \n",
      " 13  property_type                                84702 non-null  category      \n",
      " 14  room_type                                    84702 non-null  category      \n",
      " 15  accommodates                                 84702 non-null  int64         \n",
      " 16  bathrooms                                    61358 non-null  float64       \n",
      " 17  bathrooms_text                               84619 non-null  object        \n",
      " 18  bedrooms                                     78139 non-null  float64       \n",
      " 19  beds                                         61265 non-null  float64       \n",
      " 20  amenities                                    84702 non-null  object        \n",
      " 21  price                                        61395 non-null  float64       \n",
      " 22  minimum_nights                               84702 non-null  int64         \n",
      " 23  maximum_nights                               84702 non-null  int64         \n",
      " 24  availability_365                             84702 non-null  int64         \n",
      " 25  number_of_reviews                            84702 non-null  int64         \n",
      " 26  review_scores_rating                         68044 non-null  float64       \n",
      " 27  calculated_host_listings_count               84702 non-null  int64         \n",
      " 28  calculated_host_listings_count_entire_homes  84702 non-null  int64         \n",
      " 29  calculated_host_listings_count_shared_rooms  84702 non-null  int64         \n",
      " 30  reviews_per_month                            68044 non-null  float64       \n",
      "dtypes: bool(1), category(2), datetime64[ns](1), float64(8), int64(12), object(7)\n",
      "memory usage: 19.0+ MB\n"
     ]
    }
   ],
   "source": [
    "df.info()"
   ]
  },
  {
   "cell_type": "code",
   "execution_count": 28,
   "id": "f0c064a3-b4d0-400a-a366-f030289d2a9f",
   "metadata": {},
   "outputs": [
    {
     "name": "stdout",
     "output_type": "stream",
     "text": [
      "Creating data/clean under /home/jovyan/work\n",
      "Done.\n"
     ]
    }
   ],
   "source": [
    "path = os.path.join('data','clean')\n",
    "\n",
    "if not os.path.exists(path):\n",
    "    print(f\"Creating {path} under {os.getcwd()}\")\n",
    "    os.makedirs(path)\n",
    "    \n",
    "df.to_csv(os.path.join(path,fn), index=False)\n",
    "print(\"Done.\")"
   ]
  },
  {
   "cell_type": "code",
   "execution_count": null,
   "id": "889a1b9b-b3c9-4794-9947-b05931d4b7b8",
   "metadata": {},
   "outputs": [],
   "source": []
  }
 ],
 "metadata": {
  "kernelspec": {
   "display_name": "Python (base)",
   "language": "python",
   "name": "base"
  },
  "language_info": {
   "codemirror_mode": {
    "name": "ipython",
    "version": 3
   },
   "file_extension": ".py",
   "mimetype": "text/x-python",
   "name": "python",
   "nbconvert_exporter": "python",
   "pygments_lexer": "ipython3",
   "version": "3.11.9"
  }
 },
 "nbformat": 4,
 "nbformat_minor": 5
}
